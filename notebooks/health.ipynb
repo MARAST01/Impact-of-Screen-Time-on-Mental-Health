{
 "cells": [
  {
   "cell_type": "code",
   "execution_count": 1,
   "id": "d68b5c6a",
   "metadata": {},
   "outputs": [
    {
     "ename": "IndentationError",
     "evalue": "unexpected indent (3330796982.py, line 4)",
     "output_type": "error",
     "traceback": [
      "  \u001b[36mCell\u001b[39m\u001b[36m \u001b[39m\u001b[32mIn[1]\u001b[39m\u001b[32m, line 4\u001b[39m\n\u001b[31m    \u001b[39m\u001b[31m- Investigar si existe una correlación entre el tiempo en pantalla y variables asociadas a la salud mental (estrés, ansiedad, depresión).\u001b[39m\n    ^\n\u001b[31mIndentationError\u001b[39m\u001b[31m:\u001b[39m unexpected indent\n"
     ]
    }
   ],
   "source": [
    "## 1. Comprensión del negocio\n",
    "\n",
    "- ¿Qué problema queremos resolver?\n",
    "    - Investigar si existe una correlación entre el tiempo en pantalla y variables asociadas a la salud mental (estrés, ansiedad, depresión).\n",
    "- ¿Quiénes se beneficiarían?\n",
    "    - Instituciones educativas, padres, psicólogos, entidades de salud pública.\n",
    "- ¿Qué preguntas queremos responder?\n",
    "    - ¿Cuánto tiempo frente a pantallas se considera perjudicial?\n",
    "    - ¿Qué tipo de uso (ocio, trabajo, redes sociales) impacta más?\n"
   ]
  },
  {
   "cell_type": "code",
   "execution_count": null,
   "id": "c36f65da",
   "metadata": {},
   "outputs": [],
   "source": [
    "## 2. Comprensión de los datos\n",
    "\n",
    "import pandas as pd\n",
    "\n",
    "# Carga del dataset\n",
    "df = pd.read_csv('ruta/del/dataset.csv')\n",
    "\n",
    "# Vista general\n",
    "df.head()\n",
    "\n",
    "# Información de columnas\n",
    "df.info()\n",
    "\n",
    "# Estadísticas descriptivas\n",
    "df.describe()\n",
    "\n",
    "# Verificar valores nulos\n",
    "df.isnull().sum()\n",
    "\n",
    "# Visualizar distribución de variables clave\n",
    "import seaborn as sns\n",
    "import matplotlib.pyplot as plt\n",
    "\n",
    "sns.histplot(df['screen_time'], kde=True)\n",
    "sns.boxplot(data=df, x='mental_health_score')\n"
   ]
  }
 ],
 "metadata": {
  "kernelspec": {
   "display_name": "Python 3",
   "language": "python",
   "name": "python3"
  },
  "language_info": {
   "codemirror_mode": {
    "name": "ipython",
    "version": 3
   },
   "file_extension": ".py",
   "mimetype": "text/x-python",
   "name": "python",
   "nbconvert_exporter": "python",
   "pygments_lexer": "ipython3",
   "version": "3.12.3"
  }
 },
 "nbformat": 4,
 "nbformat_minor": 5
}
