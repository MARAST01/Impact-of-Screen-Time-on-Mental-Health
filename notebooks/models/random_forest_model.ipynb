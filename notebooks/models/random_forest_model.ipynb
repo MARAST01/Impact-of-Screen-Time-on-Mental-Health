{
 "cells": [
  {
   "cell_type": "code",
   "execution_count": 30,
   "metadata": {},
   "outputs": [],
   "source": [
    "# Importar librerías necesarias\n",
    "import pandas as pd\n",
    "import numpy as np\n",
    "from sklearn.ensemble import RandomForestRegressor\n",
    "from sklearn.model_selection import train_test_split, cross_val_score\n",
    "from sklearn.metrics import mean_squared_error, r2_score\n",
    "import matplotlib.pyplot as plt\n",
    "import seaborn as sns\n",
    "\n",
    "# Configurar el estilo de las gráficas\n",
    "plt.style.use('seaborn-v0_8')  # Usar el estilo específico de seaborn\n",
    "sns.set_theme(style=\"whitegrid\")  # Configurar el tema de seaborn"
   ]
  },
  {
   "cell_type": "code",
   "execution_count": 31,
   "metadata": {},
   "outputs": [
    {
     "name": "stdout",
     "output_type": "stream",
     "text": [
      "Datos cargados exitosamente\n",
      "\n",
      "Dimensiones del dataset: (2000, 25)\n"
     ]
    }
   ],
   "source": [
    "# Celda 2: Carga de datos\n",
    "try:\n",
    "    df = pd.read_csv('/home/marast/Documentos/1UNIVALLE/7 SEMESTRE/ICD/Impact-of-Screen-Time-on-Mental-Health/data/digital_diet_mental_health.csv')\n",
    "    print(\"Datos cargados exitosamente\")\n",
    "    print(f\"\\nDimensiones del dataset: {df.shape}\")\n",
    "    df.head()\n",
    "except FileNotFoundError:\n",
    "    print(\"Error: No se encontró el archivo de datos. Asegúrate de que la ruta sea correcta.\")\n",
    "except Exception as e:\n",
    "    print(f\"Error al cargar los datos: {str(e)}\")"
   ]
  },
  {
   "cell_type": "code",
   "execution_count": 32,
   "metadata": {},
   "outputs": [
    {
     "name": "stdout",
     "output_type": "stream",
     "text": [
      "Error: Las siguientes columnas objetivo no existen: ['anxiety_score', 'depression_score', 'insomnia_score', 'ocd_score']\n"
     ]
    }
   ],
   "source": [
    "#Preparación de datos\n",
    "try:\n",
    "    # Verificar que las columnas objetivo existan\n",
    "    target_columns = ['anxiety_score', 'depression_score', 'insomnia_score', 'ocd_score']\n",
    "    missing_columns = [col for col in target_columns if col not in df.columns]\n",
    "    \n",
    "    if missing_columns:\n",
    "        print(f\"Error: Las siguientes columnas objetivo no existen: {missing_columns}\")\n",
    "    else:\n",
    "        X = df.drop(target_columns, axis=1)\n",
    "        y = df[target_columns]\n",
    "        \n",
    "        # Dividir los datos en conjuntos de entrenamiento y prueba\n",
    "        X_train, X_test, y_train, y_test = train_test_split(X, y, test_size=0.2, random_state=42)\n",
    "        \n",
    "        print(f\"\\nDimensiones de los conjuntos de datos:\")\n",
    "        print(f\"X_train: {X_train.shape}\")\n",
    "        print(f\"X_test: {X_test.shape}\")\n",
    "        print(f\"y_train: {y_train.shape}\")\n",
    "        print(f\"y_test: {y_test.shape}\")\n",
    "except Exception as e:\n",
    "    print(f\"Error en la preparación de datos: {str(e)}\")\n"
   ]
  },
  {
   "cell_type": "code",
   "execution_count": 33,
   "metadata": {},
   "outputs": [
    {
     "name": "stdout",
     "output_type": "stream",
     "text": [
      "Error en el entrenamiento del modelo: name 'X_train' is not defined\n"
     ]
    }
   ],
   "source": [
    "# Celda 4: Entrenamiento del modelo\n",
    "try:\n",
    "    # Inicializar el modelo con parámetros optimizados\n",
    "    rf_model = RandomForestRegressor(\n",
    "        n_estimators=100,\n",
    "        max_depth=None,\n",
    "        min_samples_split=2,\n",
    "        min_samples_leaf=1,\n",
    "        random_state=42,\n",
    "        n_jobs=-1  # Usar todos los núcleos disponibles\n",
    "    )\n",
    "    \n",
    "    # Entrenar el modelo\n",
    "    rf_model.fit(X_train, y_train)\n",
    "    print(\"Modelo entrenado exitosamente\")\n",
    "    \n",
    "    # Realizar predicciones\n",
    "    y_pred = rf_model.predict(X_test)\n",
    "    print(\"Predicciones realizadas exitosamente\")\n",
    "except Exception as e:\n",
    "    print(f\"Error en el entrenamiento del modelo: {str(e)}\")"
   ]
  },
  {
   "cell_type": "code",
   "execution_count": 34,
   "metadata": {},
   "outputs": [
    {
     "name": "stdout",
     "output_type": "stream",
     "text": [
      "Error en la evaluación del modelo: name 'y_test' is not defined\n"
     ]
    }
   ],
   "source": [
    "# Celda 5: Evaluación del modelo\n",
    "def evaluate_model(y_true, y_pred, target_names):\n",
    "    results = {}\n",
    "    for i, target in enumerate(target_names):\n",
    "        mse = mean_squared_error(y_true[:, i], y_pred[:, i])\n",
    "        r2 = r2_score(y_true[:, i], y_pred[:, i])\n",
    "        results[target] = {'MSE': mse, 'R2': r2}\n",
    "    return results\n",
    "\n",
    "try:\n",
    "    target_names = ['anxiety_score', 'depression_score', 'insomnia_score', 'ocd_score']\n",
    "    evaluation_results = evaluate_model(y_test.values, y_pred, target_names)\n",
    "    \n",
    "    print(\"\\nResultados de la evaluación:\")\n",
    "    for target, metrics in evaluation_results.items():\n",
    "        print(f\"\\n{target}:\")\n",
    "        print(f\"MSE: {metrics['MSE']:.4f}\")\n",
    "        print(f\"R2: {metrics['R2']:.4f}\")\n",
    "except Exception as e:\n",
    "    print(f\"Error en la evaluación del modelo: {str(e)}\")\n"
   ]
  },
  {
   "cell_type": "code",
   "execution_count": 35,
   "metadata": {},
   "outputs": [
    {
     "name": "stdout",
     "output_type": "stream",
     "text": [
      "Error en la visualización: name 'X' is not defined\n"
     ]
    }
   ],
   "source": [
    "# Celda 6: Visualización\n",
    "try:\n",
    "    feature_importance = pd.DataFrame({\n",
    "        'feature': X.columns,\n",
    "        'importance': rf_model.feature_importances_\n",
    "    })\n",
    "    feature_importance = feature_importance.sort_values('importance', ascending=False)\n",
    "    \n",
    "    plt.figure(figsize=(12, 6))\n",
    "    sns.barplot(x='importance', y='feature', data=feature_importance.head(10))\n",
    "    plt.title('Top 10 Características más Importantes')\n",
    "    plt.xlabel('Importancia')\n",
    "    plt.ylabel('Característica')\n",
    "    plt.tight_layout()\n",
    "    plt.show()\n",
    "    \n",
    "    # Mostrar las características más importantes en formato tabular\n",
    "    print(\"\\nTop 10 características más importantes:\")\n",
    "    print(feature_importance.head(10).to_string(index=False))\n",
    "except Exception as e:\n",
    "    print(f\"Error en la visualización: {str(e)}\")\n"
   ]
  },
  {
   "cell_type": "code",
   "execution_count": 36,
   "metadata": {},
   "outputs": [
    {
     "name": "stdout",
     "output_type": "stream",
     "text": [
      "Error al guardar el modelo: [Errno 2] No such file or directory: 'models/random_forest_model.joblib'\n"
     ]
    }
   ],
   "source": [
    "# Celda 7: Guardar el modelo\n",
    "try:\n",
    "    import joblib\n",
    "    joblib.dump(rf_model, 'models/random_forest_model.joblib')\n",
    "    print(\"Modelo guardado exitosamente en 'models/random_forest_model.joblib'\")\n",
    "except Exception as e:\n",
    "    print(f\"Error al guardar el modelo: {str(e)}\")"
   ]
  }
 ],
 "metadata": {
  "kernelspec": {
   "display_name": "ICD",
   "language": "python",
   "name": "python3"
  },
  "language_info": {
   "codemirror_mode": {
    "name": "ipython",
    "version": 3
   },
   "file_extension": ".py",
   "mimetype": "text/x-python",
   "name": "python",
   "nbconvert_exporter": "python",
   "pygments_lexer": "ipython3",
   "version": "3.12.3"
  }
 },
 "nbformat": 4,
 "nbformat_minor": 2
}
